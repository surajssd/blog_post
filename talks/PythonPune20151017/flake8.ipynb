{
 "cells": [
  {
   "cell_type": "markdown",
   "metadata": {
    "slideshow": {
     "slide_type": "slide"
    }
   },
   "source": [
    "# Flake8\n",
    "\n",
    "<img style=\"float: right;\" src=\"https://pbs.twimg.com/profile_images/653823878276341760/v47KRQTD.jpg\">\n",
    "### - [Suraj Deshmukh](https://deshmukhsuraj.wordpress.com/)\n",
    "### @surajssd009005\n",
    "\n"
   ]
  },
  {
   "cell_type": "markdown",
   "metadata": {
    "slideshow": {
     "slide_type": "slide"
    }
   },
   "source": [
    "Meanwhile Install it using\n",
    "\n",
    "    $ sudo pip install flake8\n",
    "    \n",
    "Fedora users\n",
    "    \n",
    "    $ sudo dnf install python-flake8\n",
    "    \n",
    "Ubuntu users\n",
    "\n",
    "    $ sudo apt-get install python-flake8"
   ]
  },
  {
   "cell_type": "markdown",
   "metadata": {
    "slideshow": {
     "slide_type": "slide"
    }
   },
   "source": [
    "### *\"Code is read much more often than it is written\"*\n",
    "-Guido Van Rossum"
   ]
  },
  {
   "cell_type": "markdown",
   "metadata": {
    "slideshow": {
     "slide_type": "slide"
    }
   },
   "source": [
    "Flake8 is a wrapper around these tools:\n",
    "\n",
    "- PyFlakes\n",
    "- pep8\n",
    "- Ned Batchelder’s McCabe script"
   ]
  },
  {
   "cell_type": "markdown",
   "metadata": {
    "slideshow": {
     "slide_type": "subslide"
    }
   },
   "source": [
    "### Pyflakes\n",
    "\n",
    "It checks Python source files for errors. It analyzes programs and detects various errors. It works by parsing the source file, not importing it, so it is safe to use on modules with side effects. It’s also much faster.\n",
    "    \n",
    "- Unused imports and variables\n",
    "- Re-defined variables\n",
    "- Variables used before definition"
   ]
  },
  {
   "cell_type": "markdown",
   "metadata": {
    "slideshow": {
     "slide_type": "subslide"
    }
   },
   "source": [
    "### PEP8\n",
    "\n",
    "Python Enhancement Proposal (PEP), PEP8 is document that gives coding conventions for the Python code comprising the standard library in the main Python distribution. \n",
    "- Indentation\n",
    "- Tabs or Spaces?\n",
    "- Maximum line length\n",
    "- Blank Lines\n",
    "- Imports"
   ]
  },
  {
   "cell_type": "markdown",
   "metadata": {
    "slideshow": {
     "slide_type": "subslide"
    }
   },
   "source": [
    "- PEP8 is not mandatory but important to bring consistency in code everywhere, so the code matches stylistically.\n",
    "- Consistency in code helps it make more readable.\n",
    "\n",
    "- What matters always is **P** vs **NP**"
   ]
  },
  {
   "cell_type": "markdown",
   "metadata": {
    "slideshow": {
     "slide_type": "subslide"
    }
   },
   "source": [
    "### McCabe complexity checker\n",
    "\n",
    "It is used to check Cyclomatic complexity of the code, useful to detect over-complex code."
   ]
  },
  {
   "cell_type": "markdown",
   "metadata": {
    "slideshow": {
     "slide_type": "slide"
    }
   },
   "source": [
    "### VCS hooks\n",
    "\n",
    "- You can install hooks into git or mercurial.\n",
    "- flake8 runs automatically before commit.\n",
    "- Commit will fail if there are any flake8 errors.\n",
    "\n",
    "Install hook by issuing following command in your project's root directory\n",
    "    \n",
    "    $ flake8 --install-hook"
   ]
  },
  {
   "cell_type": "markdown",
   "metadata": {
    "slideshow": {
     "slide_type": "slide"
    }
   },
   "source": [
    "Each code consists of an upper case ASCII letter followed by three digits. The recommendation is to use a different prefix for each plugin. A list of the known prefixes is published below:\n",
    "\n",
    "- `E***/W***`: pep8 errors and warnings\n",
    "- `F***`: PyFlakes codes (see below)\n",
    "- `C9**`: McCabe complexity plugin mccabe\n",
    "- `N8**`: Naming Conventions plugin pep8-naming\n"
   ]
  },
  {
   "cell_type": "markdown",
   "metadata": {
    "slideshow": {
     "slide_type": "slide"
    }
   },
   "source": [
    "Lets see it working\n",
    "\n",
    "- `$ flake8 notebook-master`\n",
    "- `$ flake8 --benchmark notebook-master`\n",
    "- `$ flake8 --show-pep8 spendings`\n",
    "- `$ flake8 --show-source spendings`\n"
   ]
  },
  {
   "cell_type": "markdown",
   "metadata": {
    "slideshow": {
     "slide_type": "subslide"
    }
   },
   "source": [
    "Measuring complexity\n",
    "\n",
    "- `$ flake8 --max-complexity 2 notebook-master`"
   ]
  },
  {
   "cell_type": "markdown",
   "metadata": {
    "slideshow": {
     "slide_type": "slide"
    }
   },
   "source": [
    "## QA\n",
    "\n",
    "## Thanks"
   ]
  },
  {
   "cell_type": "markdown",
   "metadata": {
    "slideshow": {
     "slide_type": "slide"
    }
   },
   "source": [
    "## References\n",
    "\n",
    "- flake8 docs https://flake8.readthedocs.org/en/2.4.1/index.html\n",
    "- pyflake docs https://pypi.python.org/pypi/pyflakes\n",
    "- pep8 docs\n",
    "    - https://www.python.org/dev/peps/pep-0008/\n",
    "    - http://pep8.readthedocs.org/en/latest/index.html\n",
    "- McCabe complexity checker https://github.com/flintwork/mccabe\n",
    "- Cyclomatic complexity https://en.wikipedia.org/wiki/Cyclomatic_complexity"
   ]
  }
 ],
 "metadata": {
  "celltoolbar": "Slideshow",
  "kernelspec": {
   "display_name": "Python 2",
   "language": "python",
   "name": "python2"
  },
  "language_info": {
   "codemirror_mode": {
    "name": "ipython",
    "version": 2
   },
   "file_extension": ".py",
   "mimetype": "text/x-python",
   "name": "python",
   "nbconvert_exporter": "python",
   "pygments_lexer": "ipython2",
   "version": "2.7.10"
  }
 },
 "nbformat": 4,
 "nbformat_minor": 0
}
